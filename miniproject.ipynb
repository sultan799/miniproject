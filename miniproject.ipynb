{
  "nbformat": 4,
  "nbformat_minor": 0,
  "metadata": {
    "kernelspec": {
      "display_name": "Python 3",
      "language": "python",
      "name": "python3"
    },
    "language_info": {
      "codemirror_mode": {
        "name": "ipython",
        "version": 3
      },
      "file_extension": ".py",
      "mimetype": "text/x-python",
      "name": "python",
      "nbconvert_exporter": "python",
      "pygments_lexer": "ipython3",
      "version": "3.8.3"
    },
    "colab": {
      "name": "miniproject.ipynb",
      "provenance": [],
      "include_colab_link": true
    }
  },
  "cells": [
    {
      "cell_type": "markdown",
      "metadata": {
        "id": "view-in-github",
        "colab_type": "text"
      },
      "source": [
        "<a href=\"https://colab.research.google.com/github/sultan799/miniproject/blob/main/miniproject.ipynb\" target=\"_parent\"><img src=\"https://colab.research.google.com/assets/colab-badge.svg\" alt=\"Open In Colab\"/></a>"
      ]
    },
    {
      "cell_type": "code",
      "metadata": {
        "id": "V4rjYoorEAhY"
      },
      "source": [
        "import numpy as np\n",
        "import pandas as pd\n",
        "import itertools\n",
        "from sklearn.model_selection import train_test_split\n",
        "from sklearn.feature_extraction.text import TfidfVectorizer\n",
        "from sklearn.linear_model import PassiveAggressiveClassifier\n",
        "from sklearn.metrics import accuracy_score, confusion_matrix"
      ],
      "execution_count": null,
      "outputs": []
    },
    {
      "cell_type": "code",
      "metadata": {
        "colab": {
          "base_uri": "https://localhost:8080/",
          "height": 204
        },
        "id": "1kh1qqutEAhf",
        "outputId": "ee1f40e0-a5a7-4e36-f856-68f1aec02faa"
      },
      "source": [
        "#Read the data\n",
        "df=pd.read_csv('news.csv')\n",
        "\n",
        "#Get shape and head\n",
        "df.shape\n",
        "df.head()\n"
      ],
      "execution_count": null,
      "outputs": [
        {
          "output_type": "execute_result",
          "data": {
            "text/html": [
              "<div>\n",
              "<style scoped>\n",
              "    .dataframe tbody tr th:only-of-type {\n",
              "        vertical-align: middle;\n",
              "    }\n",
              "\n",
              "    .dataframe tbody tr th {\n",
              "        vertical-align: top;\n",
              "    }\n",
              "\n",
              "    .dataframe thead th {\n",
              "        text-align: right;\n",
              "    }\n",
              "</style>\n",
              "<table border=\"1\" class=\"dataframe\">\n",
              "  <thead>\n",
              "    <tr style=\"text-align: right;\">\n",
              "      <th></th>\n",
              "      <th>Unnamed: 0</th>\n",
              "      <th>title</th>\n",
              "      <th>text</th>\n",
              "      <th>label</th>\n",
              "    </tr>\n",
              "  </thead>\n",
              "  <tbody>\n",
              "    <tr>\n",
              "      <th>0</th>\n",
              "      <td>8476</td>\n",
              "      <td>You Can Smell Hillary’s Fear</td>\n",
              "      <td>Daniel Greenfield, a Shillman Journalism Fello...</td>\n",
              "      <td>FAKE</td>\n",
              "    </tr>\n",
              "    <tr>\n",
              "      <th>1</th>\n",
              "      <td>10294</td>\n",
              "      <td>Watch The Exact Moment Paul Ryan Committed Pol...</td>\n",
              "      <td>Google Pinterest Digg Linkedin Reddit Stumbleu...</td>\n",
              "      <td>FAKE</td>\n",
              "    </tr>\n",
              "    <tr>\n",
              "      <th>2</th>\n",
              "      <td>3608</td>\n",
              "      <td>Kerry to go to Paris in gesture of sympathy</td>\n",
              "      <td>U.S. Secretary of State John F. Kerry said Mon...</td>\n",
              "      <td>REAL</td>\n",
              "    </tr>\n",
              "    <tr>\n",
              "      <th>3</th>\n",
              "      <td>10142</td>\n",
              "      <td>Bernie supporters on Twitter erupt in anger ag...</td>\n",
              "      <td>— Kaydee King (@KaydeeKing) November 9, 2016 T...</td>\n",
              "      <td>FAKE</td>\n",
              "    </tr>\n",
              "    <tr>\n",
              "      <th>4</th>\n",
              "      <td>875</td>\n",
              "      <td>The Battle of New York: Why This Primary Matters</td>\n",
              "      <td>It's primary day in New York and front-runners...</td>\n",
              "      <td>REAL</td>\n",
              "    </tr>\n",
              "  </tbody>\n",
              "</table>\n",
              "</div>"
            ],
            "text/plain": [
              "   Unnamed: 0  ... label\n",
              "0        8476  ...  FAKE\n",
              "1       10294  ...  FAKE\n",
              "2        3608  ...  REAL\n",
              "3       10142  ...  FAKE\n",
              "4         875  ...  REAL\n",
              "\n",
              "[5 rows x 4 columns]"
            ]
          },
          "metadata": {
            "tags": []
          },
          "execution_count": 9
        }
      ]
    },
    {
      "cell_type": "code",
      "metadata": {
        "colab": {
          "base_uri": "https://localhost:8080/"
        },
        "id": "sMj0P_92EAhn",
        "outputId": "ba47c9ae-ae11-40a9-fef3-2875a9c69364"
      },
      "source": [
        "#DataFlair - Get the labels\n",
        "labels=df.label\n",
        "labels.head()"
      ],
      "execution_count": null,
      "outputs": [
        {
          "output_type": "execute_result",
          "data": {
            "text/plain": [
              "0    FAKE\n",
              "1    FAKE\n",
              "2    REAL\n",
              "3    FAKE\n",
              "4    REAL\n",
              "Name: label, dtype: object"
            ]
          },
          "metadata": {
            "tags": []
          },
          "execution_count": 10
        }
      ]
    },
    {
      "cell_type": "code",
      "metadata": {
        "id": "c5ufBwjoEAho"
      },
      "source": [
        "#DataFlair - Split the dataset\n",
        "x_train,x_test,y_train,y_test=train_test_split(df['text'], labels, test_size=0.2, random_state=7)"
      ],
      "execution_count": null,
      "outputs": []
    },
    {
      "cell_type": "code",
      "metadata": {
        "colab": {
          "base_uri": "https://localhost:8080/"
        },
        "id": "gG9rhgMLEAhp",
        "outputId": "43a471e3-5575-4473-bedd-e9c8acf3fc91"
      },
      "source": [
        "print(x_test,y_test)"
      ],
      "execution_count": null,
      "outputs": [
        {
          "output_type": "stream",
          "text": [
            "3534    A day after the candidates squared off in a fi...\n",
            "6265    VIDEO : FBI SOURCES SAY INDICTMENT LIKELY FOR ...\n",
            "3123    It's debate season, where social media has bro...\n",
            "3940    Mitch McConnell has decided to wager the Repub...\n",
            "2856    Donald Trump, the actual Republican candidate ...\n",
            "                              ...                        \n",
            "4986    Washington (CNN) President Barack Obama announ...\n",
            "5789    The revival of middle-class jobs has been one ...\n",
            "4338    \"I can guarantee that,\" Obama answered when as...\n",
            "5924    Videos 30 Civilians Die In US Airstrike Called...\n",
            "6030    The retired neurosurgeon lashed out Friday mor...\n",
            "Name: text, Length: 1267, dtype: object 3534    REAL\n",
            "6265    FAKE\n",
            "3123    REAL\n",
            "3940    REAL\n",
            "2856    REAL\n",
            "        ... \n",
            "4986    REAL\n",
            "5789    REAL\n",
            "4338    REAL\n",
            "5924    FAKE\n",
            "6030    REAL\n",
            "Name: label, Length: 1267, dtype: object\n"
          ],
          "name": "stdout"
        }
      ]
    },
    {
      "cell_type": "code",
      "metadata": {
        "id": "SYAcYp35EAht"
      },
      "source": [
        "#DataFlair - Initialize a TfidfVectorizer\n",
        "tfidf_vectorizer=TfidfVectorizer(stop_words='english', max_df=0.7)\n",
        "\n",
        "#DataFlair - Fit and transform train set, transform test set\n",
        "tfidf_train=tfidf_vectorizer.fit_transform(x_train) \n",
        "tfidf_test=tfidf_vectorizer.transform(x_test)"
      ],
      "execution_count": null,
      "outputs": []
    },
    {
      "cell_type": "code",
      "metadata": {
        "colab": {
          "base_uri": "https://localhost:8080/"
        },
        "id": "gaU62PQZEAhv",
        "outputId": "08a23f4c-fda2-42b8-b5e5-ff51ce7551b3"
      },
      "source": [
        "print(tfidf_test)\n",
        "print(y_test)"
      ],
      "execution_count": null,
      "outputs": [
        {
          "output_type": "stream",
          "text": [
            "  (0, 60731)\t0.05899712902382916\n",
            "  (0, 60684)\t0.033385466151529625\n",
            "  (0, 60271)\t0.04581143542258741\n",
            "  (0, 60261)\t0.07937859313949312\n",
            "  (0, 59116)\t0.10997273171965094\n",
            "  (0, 59036)\t0.08042180974421559\n",
            "  (0, 58654)\t0.07128159375531905\n",
            "  (0, 58335)\t0.0678398429566027\n",
            "  (0, 57086)\t0.12429244186413906\n",
            "  (0, 55170)\t0.20939665348422057\n",
            "  (0, 54706)\t0.035492943055135416\n",
            "  (0, 54394)\t0.10596727423829927\n",
            "  (0, 54238)\t0.06234899619642803\n",
            "  (0, 53749)\t0.04942070163765446\n",
            "  (0, 53518)\t0.117529167732626\n",
            "  (0, 53144)\t0.059982387365669215\n",
            "  (0, 52555)\t0.14065295472127948\n",
            "  (0, 52483)\t0.07360851972393109\n",
            "  (0, 51960)\t0.14065295472127948\n",
            "  (0, 51955)\t0.030414611451489323\n",
            "  (0, 51663)\t0.12057034351821985\n",
            "  (0, 51527)\t0.08134873077710283\n",
            "  (0, 51159)\t0.053278054236854326\n",
            "  (0, 51005)\t0.07360851972393109\n",
            "  (0, 50068)\t0.06481045119580665\n",
            "  :\t:\n",
            "  (1266, 16835)\t0.08080116269909657\n",
            "  (1266, 16385)\t0.0655727278454052\n",
            "  (1266, 15999)\t0.03279926109441314\n",
            "  (1266, 14890)\t0.05544599110567492\n",
            "  (1266, 13110)\t0.06697165573835866\n",
            "  (1266, 12885)\t0.05404331760933019\n",
            "  (1266, 12792)\t0.052054416965658004\n",
            "  (1266, 11999)\t0.09393931399068145\n",
            "  (1266, 11425)\t0.061215890922102396\n",
            "  (1266, 11275)\t0.03975222944194533\n",
            "  (1266, 10398)\t0.03928759838998747\n",
            "  (1266, 10334)\t0.052485971705883705\n",
            "  (1266, 9807)\t0.47248142728953435\n",
            "  (1266, 9082)\t0.06889577674672712\n",
            "  (1266, 8639)\t0.09860931312297018\n",
            "  (1266, 7209)\t0.05947909473390904\n",
            "  (1266, 7127)\t0.12219547760308587\n",
            "  (1266, 7021)\t0.09258263295223065\n",
            "  (1266, 6653)\t0.05532410291136702\n",
            "  (1266, 6288)\t0.04255750958351483\n",
            "  (1266, 5568)\t0.04067869750578144\n",
            "  (1266, 5070)\t0.08544954436342893\n",
            "  (1266, 4297)\t0.09929470490549547\n",
            "  (1266, 2510)\t0.04365670001733164\n",
            "  (1266, 2365)\t0.06671538208893119\n",
            "3534    REAL\n",
            "6265    FAKE\n",
            "3123    REAL\n",
            "3940    REAL\n",
            "2856    REAL\n",
            "        ... \n",
            "4986    REAL\n",
            "5789    REAL\n",
            "4338    REAL\n",
            "5924    FAKE\n",
            "6030    REAL\n",
            "Name: label, Length: 1267, dtype: object\n"
          ],
          "name": "stdout"
        }
      ]
    },
    {
      "cell_type": "code",
      "metadata": {
        "colab": {
          "base_uri": "https://localhost:8080/"
        },
        "id": "HI--AkYcEAhw",
        "outputId": "b1eab6b0-dd18-4e34-8a74-0fcf4a554369"
      },
      "source": [
        "#DataFlair - Initialize a PassiveAggressiveClassifier\n",
        "pac=PassiveAggressiveClassifier(max_iter=50)\n",
        "print(pac.fit(tfidf_train,y_train))\n",
        "\n",
        "#DataFlair - Predict on the test set and calculate accuracy\n",
        "y_pred=pac.predict(tfidf_test)\n",
        "print(y_pred)\n",
        "score=accuracy_score(y_test,y_pred)\n",
        "print(f'Accuracy: {round(score*100,2)}%')"
      ],
      "execution_count": null,
      "outputs": [
        {
          "output_type": "stream",
          "text": [
            "PassiveAggressiveClassifier(C=1.0, average=False, class_weight=None,\n",
            "                            early_stopping=False, fit_intercept=True,\n",
            "                            loss='hinge', max_iter=50, n_iter_no_change=5,\n",
            "                            n_jobs=None, random_state=None, shuffle=True,\n",
            "                            tol=0.001, validation_fraction=0.1, verbose=0,\n",
            "                            warm_start=False)\n",
            "['REAL' 'FAKE' 'REAL' ... 'REAL' 'FAKE' 'REAL']\n",
            "Accuracy: 92.82%\n"
          ],
          "name": "stdout"
        }
      ]
    },
    {
      "cell_type": "code",
      "metadata": {
        "colab": {
          "base_uri": "https://localhost:8080/"
        },
        "id": "tbjHA3_8EAhx",
        "outputId": "9dd0a02b-ff37-4d55-9658-337190854d36"
      },
      "source": [
        "#DataFlair - Build confusion matrix\n",
        "confusion_matrix(y_test,y_pred, labels=['FAKE','REAL'])"
      ],
      "execution_count": null,
      "outputs": [
        {
          "output_type": "execute_result",
          "data": {
            "text/plain": [
              "array([[590,  48],\n",
              "       [ 43, 586]])"
            ]
          },
          "metadata": {
            "tags": []
          },
          "execution_count": 16
        }
      ]
    },
    {
      "cell_type": "code",
      "metadata": {
        "colab": {
          "base_uri": "https://localhost:8080/"
        },
        "id": "beHQitOBEAhy",
        "outputId": "813c5369-11f5-413b-f2c5-6dc521e0172a"
      },
      "source": [
        "print(y_pred)"
      ],
      "execution_count": null,
      "outputs": [
        {
          "output_type": "stream",
          "text": [
            "['REAL' 'FAKE' 'REAL' ... 'REAL' 'FAKE' 'REAL']\n"
          ],
          "name": "stdout"
        }
      ]
    },
    {
      "cell_type": "code",
      "metadata": {
        "id": "7R44dX2vEAh0",
        "colab": {
          "base_uri": "https://localhost:8080/"
        },
        "outputId": "e91d3a04-c0da-4721-cb48-2f730fa28a00"
      },
      "source": [
        "input=[\"Daniel Greenfield, a Shillman\"]\r\n",
        "input_transform=tfidf_vectorizer.transform(input)\r\n",
        "predict=pac.predict(input_transform)\r\n",
        "print(predict)"
      ],
      "execution_count": 20,
      "outputs": [
        {
          "output_type": "stream",
          "text": [
            "['FAKE']\n"
          ],
          "name": "stdout"
        }
      ]
    }
  ]
}